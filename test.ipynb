{
 "cells": [
  {
   "cell_type": "markdown",
   "id": "fe9146c7",
   "metadata": {},
   "source": [
    "    1. Descripción: La Escuela Agrícola “Centro El Verbo” nos ha solicitado un programa para controlar la producción de leche de sus vacas. Se sugiere una arreglo vaca de 30 elemento, donde en cada celda se almacena el número de litros de leche que produce una vaca. Se desea conocer cual fue el día de mayor producción, cual fuel día de menor producción y cual fue el promedio de producción. \n",
    "       \n",
    "       Funcionamiento: El programa pide al usuario que ingrese por día la cantidad en litros producidos por cada vaca en ese día eso se realiza desde el día lunes al domingo."
   ]
  },
  {
   "cell_type": "code",
   "execution_count": null,
   "id": "6a4db2ed",
   "metadata": {},
   "outputs": [
    {
     "name": "stdout",
     "output_type": "stream",
     "text": [
      "[11, 10, 9, 11, 10, 12, 14, 10, 8, 11, 5, 11, 10, 5, 7, 5, 10, 11, 7, 11, 5, 5, 9, 9, 7, 5, 7, 5, 12, 12]\n",
      "[12, 5, 9, 9, 7, 14, 12, 12, 14, 9, 8, 5, 11, 11, 7, 11, 9, 10, 13, 12, 14, 10, 4, 8, 5, 7, 10, 7, 12, 9]\n",
      "[9, 9, 8, 8, 5, 9, 5, 9, 7, 4, 12, 10, 7, 5, 8, 11, 13, 11, 5, 5, 8, 7, 8, 11, 5, 5, 8, 11, 7, 9]\n",
      "[5, 7, 11, 7, 10, 12, 11, 8, 4, 11, 5, 11, 14, 9, 7, 8, 10, 8, 11, 14, 11, 8, 12, 8, 12, 5, 8, 8, 10, 8]\n",
      "[5, 11, 11, 5, 10, 13, 7, 9, 13, 12, 9, 14, 8, 9, 8, 11, 8, 9, 7, 5, 7, 5, 8, 9, 10, 8, 14, 10, 5, 11]\n",
      "[9, 8, 7, 8, 11, 11, 8, 9, 8, 11, 7, 5, 9, 12, 9, 5, 11, 5, 8, 7, 9, 5, 8, 9, 7, 11, 5, 4, 7, 8]\n",
      "[7, 9, 10, 7, 7, 11, 8, 8, 13, 9, 7, 5, 11, 7, 12, 9, 7, 7, 9, 5, 4, 12, 7, 9, 13, 5, 7, 12, 9, 9]\n"
     ]
    }
   ],
   "source": [
    "import random\n",
    "arreglo_vaca =[7,5,8,11,14,7,4,8,9,10,12,5,7,9,7,8,11,13,5,8,7,5,8,9,10,7,11,9,12,11,9]\n",
    "\n",
    "lista_semana =[]\n",
    "\n",
    "for i in range(7):\n",
    "    vaca =[]\n",
    "    for j in range (30):\n",
    "        vaca.append(random.choice(arreglo_vaca))\n",
    "    lista_semana.append(vaca)"
   ]
  },
  {
   "cell_type": "markdown",
   "id": "e2c2c3ea",
   "metadata": {},
   "source": [
    "    2. Descripción: Se necesita procesar las calificaciones de un grupo de N estudiantes para lo cual se desea un programa que haga lo siguiente.\n",
    "       1. Utilice un programa “Lectudatos” para leer las cuentas, nombres  y las promedios de los\n",
    "       estudiantes en tres arreglos paralelos.\n",
    "       \n",
    "       2. Determine por medio de un subprograma cuales fueron los estudiantes con\n",
    "       mayor excelencia académica.\n",
    "       \n",
    "       3. Imprima la cuenta, nombres y los promedios\n",
    "       de los estudiantes con excelencia académica (promedio mayor o igual que 90%)."
   ]
  }
 ],
 "metadata": {
  "kernelspec": {
   "display_name": "base",
   "language": "python",
   "name": "python3"
  },
  "language_info": {
   "codemirror_mode": {
    "name": "ipython",
    "version": 3
   },
   "file_extension": ".py",
   "mimetype": "text/x-python",
   "name": "python",
   "nbconvert_exporter": "python",
   "pygments_lexer": "ipython3",
   "version": "3.9.13"
  }
 },
 "nbformat": 4,
 "nbformat_minor": 5
}
